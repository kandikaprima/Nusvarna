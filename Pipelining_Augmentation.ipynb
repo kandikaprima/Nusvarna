{
  "cells": [
    {
      "attachments": {},
      "cell_type": "markdown",
      "metadata": {
        "id": "Uk6WXj27hCP5"
      },
      "source": [
        "# Import libraries"
      ]
    },
    {
      "cell_type": "code",
      "execution_count": null,
      "metadata": {
        "id": "sqgHpDdIfi5Z"
      },
      "outputs": [],
      "source": [
        "import os\n",
        "import zipfile\n",
        "import random\n",
        "import shutil\n",
        "import tensorflow as tf\n",
        "from tensorflow.keras.preprocessing.image import ImageDataGenerator\n",
        "from shutil import copyfile\n",
        "import matplotlib.pyplot as plt"
      ]
    },
    {
      "attachments": {},
      "cell_type": "markdown",
      "metadata": {
        "id": "QG2G5ee-g83P"
      },
      "source": [
        "# Define path/directory"
      ]
    },
    {
      "cell_type": "code",
      "execution_count": null,
      "metadata": {
        "id": "57om8vGPfpeu"
      },
      "outputs": [],
      "source": [
        "source_path = './baju_adat'\n",
        "\n",
        "source_path_madura = os.path.join(source_path, 'madura')\n",
        "source_path_asmat = os.path.join(source_path, 'asmat')\n",
        "source_path_dayak = os.path.join(source_path, 'dayak')\n",
        "source_path_minang = os.path.join(source_path, 'minang')\n",
        "source_path_bali = os.path.join(source_path, 'bali')\n",
        "source_path_bugis = os.path.join(source_path, 'bugis')\n",
        "\n",
        "print(f\"There are {len(os.listdir(source_path_madura))} images of Madura.\")\n",
        "print(f\"There are {len(os.listdir(source_path_asmat))} images of Asmat.\")\n",
        "print(f\"There are {len(os.listdir(source_path_asmat))} images of Dayak.\")\n",
        "print(f\"There are {len(os.listdir(source_path_asmat))} images of Minang.\")\n",
        "print(f\"There are {len(os.listdir(source_path_asmat))} images of Bali.\")\n",
        "print(f\"There are {len(os.listdir(source_path_asmat))} images of Bugis.\")"
      ]
    },
    {
      "cell_type": "code",
      "execution_count": null,
      "metadata": {
        "id": "SwSoVOu6fvS_"
      },
      "outputs": [],
      "source": [
        "root_dir = '/baju_adat_preprocess'\n",
        "\n",
        "if os.path.exists(root_dir):\n",
        "  shutil.rmtree(root_dir)"
      ]
    },
    {
      "cell_type": "code",
      "execution_count": null,
      "metadata": {
        "id": "0-YxYUDDo8jB"
      },
      "outputs": [],
      "source": [
        "def create_train_val_test_dirs(root_path, list_suku):\n",
        "\n",
        "  for suku in list_suku:\n",
        "    os.makedirs(os.path.join(root_path, f'training/{suku}'))\n",
        "    os.makedirs(os.path.join(root_path, f'validation/{suku}'))\n",
        "    os.makedirs(os.path.join(root_path, f'testing/{suku}'))"
      ]
    },
    {
      "cell_type": "code",
      "execution_count": null,
      "metadata": {
        "id": "n5oAVEYZlKYc"
      },
      "outputs": [],
      "source": [
        "try:\n",
        "  create_train_val_test_dirs(root_path=root_dir, \n",
        "                             list_suku=['madura','asmat','dayak','minang','bali','bugis'])\n",
        "except FileExistsError:\n",
        "  print(\"You should not be seeing this since the upper directory is removed beforehand\")"
      ]
    },
    {
      "cell_type": "code",
      "execution_count": null,
      "metadata": {
        "id": "pGiBPkp3gYd6"
      },
      "outputs": [],
      "source": [
        "for rootdir, dirs, files in os.walk(root_dir):\n",
        "    for subdir in dirs:\n",
        "        print(os.path.join(rootdir, subdir))"
      ]
    },
    {
      "attachments": {},
      "cell_type": "markdown",
      "metadata": {
        "id": "QinPqj-cg7PS"
      },
      "source": [
        "# Split data"
      ]
    },
    {
      "cell_type": "code",
      "execution_count": null,
      "metadata": {
        "id": "nz5IZ3Dmgb96"
      },
      "outputs": [],
      "source": [
        "def split_train_val_data(SOURCE_DIR, TRAINING_DIR, VALIDATION_DIR, SPLIT_SIZE):\n",
        "  list_file = os.listdir(SOURCE_DIR)\n",
        "  list_file_notzero = []\n",
        "  for files in list_file:\n",
        "    if os.path.getsize(os.path.join(SOURCE_DIR, files)) == 0:\n",
        "      print(f'{files} is zero so length, so ignoring.')\n",
        "    else:\n",
        "      list_file_notzero.extend([files])\n",
        "  \n",
        "  len_train = int(len(list_file_notzero) * SPLIT_SIZE)\n",
        "  len_validation = int(len(list_file_notzero) - len_train)\n",
        "\n",
        "  train_files = random.sample(list_file_notzero, len_train)\n",
        "  validation_files = random.sample(list_file_notzero, len_validation)\n",
        "\n",
        "  for files in train_files:\n",
        "    copyfile(os.path.join(SOURCE_DIR,files), os.path.join(TRAINING_DIR, files))\n",
        "  for files in validation_files:\n",
        "    copyfile(os.path.join(SOURCE_DIR, files), os.path.join(VALIDATION_DIR, files)) "
      ]
    },
    {
      "cell_type": "code",
      "execution_count": null,
      "metadata": {
        "id": "vMwDIYpbsH4a"
      },
      "outputs": [],
      "source": [
        "def split_val_test_data(VALIDATION_DIR, TESTING_DIR, SPLIT_SIZE):\n",
        "\n",
        "  list_file = os.listdir(VALIDATION_DIR)\n",
        "  list_file_notzero = []\n",
        "  for files in list_file:\n",
        "    if os.path.getsize(os.path.join(VALIDATION_DIR, files)) == 0:\n",
        "      print(f'{files} is zero so length, so ignoring.')\n",
        "    else:\n",
        "      list_file_notzero.extend([files])\n",
        "  \n",
        "  len_validation = int(len(list_file_notzero) * SPLIT_SIZE)\n",
        "  len_testing = int(len(list_file_notzero) - len_validation)\n",
        "\n",
        "  testing_files = random.sample(list_file_notzero, len_testing)\n",
        "\n",
        "  for files in testing_files:\n",
        "    shutil.move(os.path.join(VALIDATION_DIR, files), s.path.join(TESTING_DIR, files))"
      ]
    },
    {
      "cell_type": "code",
      "execution_count": null,
      "metadata": {
        "id": "vRsNgy2IgjRq"
      },
      "outputs": [],
      "source": [
        "MADURA_SOURCE_DIR = source_path_madura\n",
        "ASMAT_SOURCE_DIR = source_path_asmat\n",
        "DAYAK_SOURCE_DIR = source_path_dayak\n",
        "MINANG_SOURCE_DIR = source_path_minang\n",
        "BALI_SOURCE_DIR = source_path_bali\n",
        "BUGIS_SOURCE_DIR = source_path_bugis\n",
        "\n",
        "TRAINING_DIR = \"/baju_adat_preprocess/training/\"\n",
        "VALIDATION_DIR = \"/baju_adat_preprocess/validation/\"\n",
        "TESTING_DIR = \"/baju_adat_preprocess/testing/\"\n",
        "\n",
        "TRAINING_MADURA_DIR = os.path.join(TRAINING_DIR, \"madura/\")\n",
        "VALIDATION_MADURA_DIR = os.path.join(VALIDATION_DIR, \"madura/\")\n",
        "TESTING_MADURA_DIR = os.path.join(TESTING_DIR, \"madura/\")\n",
        "\n",
        "TRAINING_ASMAT_DIR = os.path.join(TRAINING_DIR, \"asmat/\")\n",
        "VALIDATION_ASMAT_DIR = os.path.join(VALIDATION_DIR, \"asmat/\")\n",
        "TESTING_ASMAT_DIR = os.path.join(TESTING_DIR, \"asmat/\")\n",
        "\n",
        "TRAINING_DAYAK_DIR = os.path.join(TRAINING_DIR, \"dayak/\")\n",
        "VALIDATION_DAYAK_DIR = os.path.join(VALIDATION_DIR, \"dayak/\")\n",
        "TESTING_DAYAK_DIR = os.path.join(TESTING_DIR, \"dayak/\")\n",
        "\n",
        "TRAINING_MINANG_DIR = os.path.join(TRAINING_DIR, \"minang/\")\n",
        "VALIDATION_MINANG_DIR = os.path.join(VALIDATION_DIR, \"minang/\")\n",
        "TESTING_MINANG_DIR = os.path.join(TESTING_DIR, \"minang/\")\n",
        "\n",
        "TRAINING_BALI_DIR = os.path.join(TRAINING_DIR, \"bali/\")\n",
        "VALIDATION_BALI_DIR = os.path.join(VALIDATION_DIR, \"bali/\")\n",
        "TESTING_BALI_DIR = os.path.join(TESTING_DIR, \"bali/\")\n",
        "\n",
        "TRAINING_BUGIS_DIR = os.path.join(TRAINING_DIR, \"bugis/\")\n",
        "VALIDATION_BUGIS_DIR = os.path.join(VALIDATION_DIR, \"bugis/\")\n",
        "TESTING_BUGIS_DIR = os.path.join(TESTING_DIR, \"bugis/\")"
      ]
    },
    {
      "cell_type": "code",
      "execution_count": null,
      "metadata": {
        "id": "70iOv8RvtUp4"
      },
      "outputs": [],
      "source": [
        "if len(os.listdir(TRAINING_MADURA_DIR)) > 0:\n",
        "  for file in os.scandir(TRAINING_MADURA_DIR):\n",
        "    os.remove(file.path)\n",
        "if len(os.listdir(TRAINING_ASMAT_DIR)) > 0:\n",
        "  for file in os.scandir(TRAINING_ASMAT_DIR):\n",
        "    os.remove(file.path)\n",
        "if len(os.listdir(TRAINING_DAYAK_DIR)) > 0:\n",
        "  for file in os.scandir(TRAINING_DAYAK_DIR):\n",
        "    os.remove(file.path)\n",
        "if len(os.listdir(TRAINING_MINANG_DIR)) > 0:\n",
        "  for file in os.scandir(TRAINING_MINANG_DIR):\n",
        "    os.remove(file.path)\n",
        "if len(os.listdir(TRAINING_BALI_DIR)) > 0:\n",
        "  for file in os.scandir(TRAINING_BALI_DIR):\n",
        "    os.remove(file.path)\n",
        "if len(os.listdir(TRAINING_BUGIS_DIR)) > 0:\n",
        "  for file in os.scandir(TRAINING_BUGIS_DIR):\n",
        "    os.remove(file.path)\n",
        "\n",
        "if len(os.listdir(VALIDATION_MADURA_DIR)) > 0:\n",
        "  for file in os.scandir(VALIDATION_MADURA_DIR):\n",
        "    os.remove(file.path)\n",
        "if len(os.listdir(VALIDATION_ASMAT_DIR)) > 0:\n",
        "  for file in os.scandir(VALIDATION_ASMAT_DIR):\n",
        "    os.remove(file.path)\n",
        "if len(os.listdir(VALIDATION_DAYAK_DIR)) > 0:\n",
        "  for file in os.scandir(VALIDATION_DAYAK_DIR):\n",
        "    os.remove(file.path)\n",
        "if len(os.listdir(VALIDATION_MINANG_DIR)) > 0:\n",
        "  for file in os.scandir(VALIDATION_MINANG_DIR):\n",
        "    os.remove(file.path)\n",
        "if len(os.listdir(VALIDATION_BALI_DIR)) > 0:\n",
        "  for file in os.scandir(VALIDATION_BALI_DIR):\n",
        "    os.remove(file.path)\n",
        "if len(os.listdir(VALIDATION_BUGIS_DIR)) > 0:\n",
        "  for file in os.scandir(VALIDATION_BUGIS_DIR):\n",
        "    os.remove(file.path)\n",
        "\n",
        "if len(os.listdir(TESTING_MADURA_DIR)) > 0:\n",
        "  for file in os.scandir(TESTING_MADURA_DIR):\n",
        "    os.remove(file.path)\n",
        "if len(os.listdir(TESTING_ASMAT_DIR)) > 0:\n",
        "  for file in os.scandir(TESTING_ASMAT_DIR):\n",
        "    os.remove(file.path)\n",
        "if len(os.listdir(TESTING_DAYAK_DIR)) > 0:\n",
        "  for file in os.scandir(TESTING_DAYAK_DIR):\n",
        "    os.remove(file.path)\n",
        "if len(os.listdir(TESTING_MINANG_DIR)) > 0:\n",
        "  for file in os.scandir(TESTING_MINANG_DIR):\n",
        "    os.remove(file.path)\n",
        "if len(os.listdir(TESTING_BALI_DIR)) > 0:\n",
        "  for file in os.scandir(TESTING_BALI_DIR):\n",
        "    os.remove(file.path)\n",
        "if len(os.listdir(TESTING_BUGIS_DIR)) > 0:\n",
        "  for file in os.scandir(TESTING_BUGIS_DIR):\n",
        "    os.remove(file.path)"
      ]
    },
    {
      "cell_type": "code",
      "execution_count": null,
      "metadata": {
        "id": "t97Q7nqsrIsP"
      },
      "outputs": [],
      "source": [
        "train_val_split_size = .9\n",
        "val_test_split_size = .5\n",
        "\n",
        "split_train_val_data(MADURA_SOURCE_DIR, TRAINING_MADURA_DIR, VALIDATION_MADURA_DIR, train_val_split_size)\n",
        "split_val_test_data(VALIDATION_MADURA_DIR, TESTING_MADURA_DIR, val_test_split_size)\n",
        "\n",
        "split_train_val_data(ASMAT_SOURCE_DIR, TRAINING_ASMAT_DIR, VALIDATION_ASMAT_DIR, train_val_split_size)\n",
        "split_val_test_data(VALIDATION_ASMAT_DIR, TESTING_ASMAT_DIR, val_test_split_size)\n",
        "\n",
        "split_train_val_data(DAYAK_SOURCE_DIR, TRAINING_DAYAK_DIR, VALIDATION_DAYAK_DIR, train_val_split_size)\n",
        "split_val_test_data(VALIDATION_DAYAK_DIR, TESTING_DAYAK_DIR, val_test_split_size)\n",
        "\n",
        "split_train_val_data(MINANG_SOURCE_DIR, TRAINING_MINANG_DIR, VALIDATION_MINANG_DIR, train_val_split_size)\n",
        "split_val_test_data(VALIDATION_MINANG_DIR, TESTING_MINANG_DIR, val_test_split_size)\n",
        "\n",
        "split_train_val_data(BALI_SOURCE_DIR, TRAINING_BALI_DIR, VALIDATION_BALI_DIR, train_val_split_size)\n",
        "split_val_test_data(VALIDATION_BALI_DIR, TESTING_BALI_DIR, val_test_split_size)\n",
        "\n",
        "split_train_val_data(BUGIS_SOURCE_DIR, TRAINING_BUGIS_DIR, VALIDATION_BUGIS_DIR, train_val_split_size)\n",
        "split_val_test_data(VALIDATION_BUGIS_DIR, TESTING_BUGIS_DIR, val_test_split_size)"
      ]
    },
    {
      "cell_type": "code",
      "execution_count": null,
      "metadata": {
        "id": "1V0yFDtqrJ4l"
      },
      "outputs": [],
      "source": [
        "print(f\"\\n\\nOriginal Madura's directory has {len(os.listdir(MADURA_SOURCE_DIR))} images\")\n",
        "print(f\"Original Asmat's directory has {len(os.listdir(ASMAT_SOURCE_DIR))} images\\n\")\n",
        "print(f\"Original Dayak's directory has {len(os.listdir(DAYAK_SOURCE_DIR))} images\\n\")\n",
        "print(f\"Original Minang's directory has {len(os.listdir(MINANG_SOURCE_DIR))} images\\n\")\n",
        "print(f\"Original Bali's directory has {len(os.listdir(BALI_SOURCE_DIR))} images\\n\")\n",
        "print(f\"Original Bugis's directory has {len(os.listdir(BUGIS_SOURCE_DIR))} images\\n\")\n",
        "\n",
        "print(f\"There are {len(os.listdir(TRAINING_MADURA_DIR))} images of Madura for training\")\n",
        "print(f\"There are {len(os.listdir(TRAINING_ASMAT_DIR))} images of Asmat for training\")\n",
        "print(f\"There are {len(os.listdir(TRAINING_DAYAK_DIR))} images of Dayak for training\")\n",
        "print(f\"There are {len(os.listdir(TRAINING_MINANG_DIR))} images of Minang for training\")\n",
        "print(f\"There are {len(os.listdir(TRAINING_BALI_DIR))} images of Bali for training\")\n",
        "print(f\"There are {len(os.listdir(TRAINING_BUGIS_DIR))} images of Bugis for training\")\n",
        "print()\n",
        "print(f\"There are {len(os.listdir(VALIDATION_MADURA_DIR))} images of Madura for validation\")\n",
        "print(f\"There are {len(os.listdir(VALIDATION_ASMAT_DIR))} images of Asmat for validation\")\n",
        "print(f\"There are {len(os.listdir(VALIDATION_DAYAK_DIR))} images of Dayak for validation\")\n",
        "print(f\"There are {len(os.listdir(VALIDATION_MINANG_DIR))} images of Minang for validation\")\n",
        "print(f\"There are {len(os.listdir(VALIDATION_BALI_DIR))} images of Bali for validation\")\n",
        "print(f\"There are {len(os.listdir(VALIDATION_BUGIS_DIR))} images of Bugis for validation\")\n",
        "print()\n",
        "print(f\"There are {len(os.listdir(TESTING_MADURA_DIR))} images of Madura for testing\")\n",
        "print(f\"There are {len(os.listdir(TESTING_ASMAT_DIR))} images of Asmat for testing\")\n",
        "print(f\"There are {len(os.listdir(TESTING_DAYAK_DIR))} images of Dayak for testing\")\n",
        "print(f\"There are {len(os.listdir(TESTING_MINANG_DIR))} images of Minang for testing\")\n",
        "print(f\"There are {len(os.listdir(TESTING_BALI_DIR))} images of Bali for testing\")\n",
        "print(f\"There are {len(os.listdir(TESTING_BUGIS_DIR))} images of Bugis for testing\")"
      ]
    },
    {
      "attachments": {},
      "cell_type": "markdown",
      "metadata": {
        "id": "2fcCuLWgg2fn"
      },
      "source": [
        "# Train_val generators incl. image augmentation"
      ]
    },
    {
      "cell_type": "code",
      "execution_count": null,
      "metadata": {
        "id": "2n9MaI37gmnO"
      },
      "outputs": [],
      "source": [
        "def train_val_test_generators(TRAINING_DIR, VALIDATION_DIR, TESTING_DIR):\n",
        "  train_datagen = ImageDataGenerator(rescale=1./255.,\n",
        "                                     rotation_range=50,\n",
        "                                     width_shift_range=0.2,\n",
        "                                     height_shift_range=0.2,\n",
        "                                     shear_range=0.2,\n",
        "                                     zoom_range=0.2,\n",
        "                                     horizontal_flip=True,\n",
        "                                     fill_mode='nearest')\n",
        "\n",
        "  train_generator = train_datagen.flow_from_directory(directory=TRAINING_DIR,\n",
        "                                                      batch_size=20,\n",
        "                                                      class_mode='binary',\n",
        "                                                      target_size=(150, 150))\n",
        "\n",
        "\n",
        "  validation_datagen = ImageDataGenerator(rescale=1./255.)\n",
        "\n",
        "  validation_generator = validation_datagen.flow_from_directory(directory=VALIDATION_DIR,\n",
        "                                                                batch_size=20,\n",
        "                                                                class_mode='binary',\n",
        "                                                                target_size=(150, 150))\n",
        "\n",
        "\n",
        "  test_datagen = ImageDataGenerator(rescale=1./255.)\n",
        "\n",
        "  test_generator = test_datagen.flow_from_directory(directory=TESTING_DIR,\n",
        "                                                    batch_size=20,\n",
        "                                                    class_mode='binary',\n",
        "                                                    target_size=(150, 150))\n",
        "\n",
        "  return train_generator, validation_generator, test_generator"
      ]
    },
    {
      "cell_type": "code",
      "execution_count": null,
      "metadata": {
        "id": "A9SHNJZYg0s9"
      },
      "outputs": [],
      "source": [
        "train_generator, validation_generator, test_generator = train_val_test_generators(TRAINING_DIR, VALIDATION_DIR, TESTING_DIR)"
      ]
    }
  ],
  "metadata": {
    "colab": {
      "provenance": []
    },
    "kernelspec": {
      "display_name": "Python 3",
      "name": "python3"
    },
    "language_info": {
      "name": "python"
    }
  },
  "nbformat": 4,
  "nbformat_minor": 0
}
