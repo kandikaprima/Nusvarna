{
 "cells": [
  {
   "attachments": {},
   "cell_type": "markdown",
   "metadata": {},
   "source": [
    "# Referensi : https://www.youtube.com/watch?v=NBuED2PivbY\n",
    "\n",
    "\n",
    "# Download chromeDriver first: https://chromedriver.chromium.org/home"
   ]
  },
  {
   "cell_type": "code",
   "execution_count": null,
   "metadata": {},
   "outputs": [],
   "source": [
    "!pip install pillow\n",
    "!pip install selenium\n",
    "!pip install requests"
   ]
  },
  {
   "cell_type": "code",
   "execution_count": null,
   "metadata": {},
   "outputs": [],
   "source": [
    "from selenium import webdriver\n",
    "from selenium.webdriver.common.by import By\n",
    "import requests\n",
    "import io\n",
    "from PIL import Image\n",
    "import time\n",
    "import os\n",
    "import sys"
   ]
  },
  {
   "cell_type": "code",
   "execution_count": null,
   "metadata": {},
   "outputs": [],
   "source": [
    "def get_images_from_google(wd, delay, max_images):\n",
    "    def scroll_down(wd):\n",
    "        wd.execute_script(\"window.scrollTo(0, document.body.scrollHeight);\")\n",
    "        time.sleep(delay)\n",
    "    \n",
    "    # !!! REPLACE THIS with your URL google image\n",
    "    url = \"https://www.google.com/search?q=baju+adat+madura&rlz=1C1CHBD_idID1025ID1026&source=lnms&tbm=isch&sa=X&ved=2ahUKEwjRy5LMtoX_AhUKzqACHSz3AF0Q_AUoAXoECAIQAw&biw=1280&bih=601&dpr=1.5\" \n",
    "    wd.get(url)\n",
    "\n",
    "    image_urls = set()\n",
    "    skips = 0\n",
    "\n",
    "    while len(image_urls) + skips < max_images:\n",
    "        scroll_down(wd)\n",
    "\n",
    "        thumbnails = wd.find_elements(By.CLASS_NAME, \"Q4LuWd\")\n",
    "        \n",
    "        for img in thumbnails[len(image_urls) + skips:max_images]:\n",
    "            try:\n",
    "                img.click()\n",
    "                time.sleep(delay)\n",
    "            except:\n",
    "                break # stop finding image element, if the limit has been reached\n",
    "\n",
    "            images = wd.find_elements(By.CLASS_NAME, \"iPVvYb\")\n",
    "            for image in images:\n",
    "                if image.get_attribute('src') in image_urls:\n",
    "                    max_images += 1\n",
    "                    skips += 1\n",
    "                    break\n",
    "\n",
    "                if image.get_attribute('src') and 'http' in image.get_attribute('src'):\n",
    "                    image_urls.add(image.get_attribute('src'))\n",
    "                    sys.stdout.write(\"\\rFound {0}\".format(len(image_urls)))\n",
    "                    sys.stdout.flush()\n",
    "\n",
    "    return image_urls"
   ]
  },
  {
   "cell_type": "code",
   "execution_count": null,
   "metadata": {},
   "outputs": [],
   "source": [
    "def download_image(url, download_path, file_name):\n",
    "    try:\n",
    "        image_content = requests.get(url).content\n",
    "        image_file = io.BytesIO(image_content)\n",
    "        image = Image.open(image_file)\n",
    "        file_path = download_path + file_name\n",
    "\n",
    "        with open(file_path, \"wb\") as f:\n",
    "            image.save(f, \"JPEG\")\n",
    "\n",
    "    except Exception as e:\n",
    "        print(f'{url} FAILED -', e) # display fail-to-download IMAGE URLs "
   ]
  },
  {
   "cell_type": "code",
   "execution_count": null,
   "metadata": {},
   "outputs": [],
   "source": [
    "current_dir = os.getcwd()\n",
    "\n",
    "CHROME_PATH = os.path.join(current_dir,'chromedriver.exe')\n",
    "DL_PATH = os.path.join(current_dir, \n",
    "                       'madura/') # !!! REPLACE THIS with FOLDER for SAVING DOWNLOADED IMAGES\n",
    "\n",
    "wd = webdriver.Chrome(CHROME_PATH)\n",
    "\n",
    "urls = get_images_from_google(wd, 1, max_images = 5) #(WebDriver, Delay, Max_Images) \n",
    "                                                    # !!! CHANGE NUMBER OF MAX_IMAGES as per your need\n",
    "\n",
    "for i, url in enumerate(urls):\n",
    "    download_image(url, DL_PATH, str(i) + \".jpg\")\n",
    "    \n",
    "wd.quit()"
   ]
  }
 ],
 "metadata": {
  "kernelspec": {
   "display_name": "Python 3",
   "language": "python",
   "name": "python3"
  },
  "language_info": {
   "codemirror_mode": {
    "name": "ipython",
    "version": 3
   },
   "file_extension": ".py",
   "mimetype": "text/x-python",
   "name": "python",
   "nbconvert_exporter": "python",
   "pygments_lexer": "ipython3",
   "version": "3.10.7"
  },
  "orig_nbformat": 4
 },
 "nbformat": 4,
 "nbformat_minor": 2
}
