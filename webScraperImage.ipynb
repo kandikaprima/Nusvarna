{
 "cells": [
  {
   "attachments": {},
   "cell_type": "markdown",
   "metadata": {},
   "source": [
    "# Referensi : https://www.youtube.com/watch?v=NBuED2PivbY\n",
    "\n",
    "\n",
    "# Download chromeDriver first: https://chromedriver.chromium.org/home"
   ]
  },
  {
   "cell_type": "code",
   "execution_count": null,
   "metadata": {},
   "outputs": [],
   "source": [
    "!pip install pillow\n",
    "!pip install selenium\n",
    "!pip install requests"
   ]
  },
  {
   "cell_type": "code",
   "execution_count": null,
   "metadata": {},
   "outputs": [],
   "source": [
    "from selenium import webdriver\n",
    "from selenium.webdriver.common.by import By\n",
    "import requests\n",
    "import io\n",
    "from PIL import Image\n",
    "import time\n",
    "import os\n",
    "import sys"
   ]
  },
  {
   "cell_type": "code",
   "execution_count": null,
   "metadata": {},
   "outputs": [],
   "source": [
    "def get_images_from_google(wd, googleimg_url, delay, max_images):\n",
    "    def scroll_down(wd):\n",
    "        wd.execute_script(\"window.scrollTo(0, document.body.scrollHeight);\")\n",
    "        time.sleep(delay)\n",
    "    \n",
    "    wd.get(googleimg_url)\n",
    "\n",
    "    image_urls = set()\n",
    "    skips = 0\n",
    "    \n",
    "    reached_page_end = False\n",
    "    last_height = wd.execute_script(\"return document.body.scrollHeight\")\n",
    "    \n",
    "    while len(image_urls) + skips < max_images and not reached_page_end: \n",
    "        # stop finding element, if it has reached (max_images) or (end of page)\n",
    "        \n",
    "        scroll_down(wd)\n",
    "        new_height = wd.execute_script(\"return document.body.scrollHeight\")\n",
    "        if last_height == new_height:\n",
    "            reached_page_end = True \n",
    "        else:\n",
    "            last_height = new_height\n",
    "\n",
    "        thumbnails = wd.find_elements(By.CLASS_NAME, \"Q4LuWd\")\n",
    "        \n",
    "        for img in thumbnails[len(image_urls) + skips:max_images]:\n",
    "            try:\n",
    "                img.click()\n",
    "                time.sleep(delay)\n",
    "            except:\n",
    "                continue \n",
    "\n",
    "            images = wd.find_elements(By.CLASS_NAME, \"iPVvYb\")\n",
    "            for image in images:\n",
    "                if image.get_attribute('src') in image_urls:\n",
    "                    max_images += 1\n",
    "                    skips += 1\n",
    "                    break\n",
    "\n",
    "                if image.get_attribute('src') and 'http' in image.get_attribute('src'):\n",
    "                    image_urls.add(image.get_attribute('src'))\n",
    "                    sys.stdout.write(\"\\rFound {0}\".format(len(image_urls)))\n",
    "                    sys.stdout.flush()\n",
    "\n",
    "    return image_urls"
   ]
  },
  {
   "cell_type": "code",
   "execution_count": null,
   "metadata": {},
   "outputs": [],
   "source": [
    "def download_image(url, download_path, file_name):\n",
    "    try:\n",
    "        image_content = requests.get(url).content\n",
    "        image_file = io.BytesIO(image_content)\n",
    "        image = Image.open(image_file)\n",
    "        file_path = download_path + file_name\n",
    "\n",
    "        with open(file_path, \"wb\") as f:\n",
    "            image.save(f, \"JPEG\")\n",
    "\n",
    "    except Exception as e:\n",
    "        print(f'\\n{url} FAILED -', e) "
   ]
  },
  {
   "attachments": {},
   "cell_type": "markdown",
   "metadata": {},
   "source": [
    "# Specify these variables\n",
    "\n",
    "* \"download_folder_name\" : in which folder you want to save your downloaded images \n",
    "* \"MAX_IMAGES\" : set limit to maximum number of images that you want to download\n",
    "* \"googleimg_url\" : URL of google search image "
   ]
  },
  {
   "cell_type": "code",
   "execution_count": null,
   "metadata": {},
   "outputs": [],
   "source": [
    "download_folder_name = 'papua'\n",
    "MAX_IMAGES = 5\n",
    "googleimg_url = \"https://www.google.com/search?q=baju+adat+papua&rlz=1C1CHBD_idID1025ID1026&source=lnms&tbm=isch&sa=X&ved=2ahUKEwj-4_Lrm4b_AhWa-TgGHQSjAFkQ_AUoAXoECAwQAw&biw=1280&bih=601&dpr=1.5\""
   ]
  },
  {
   "cell_type": "code",
   "execution_count": null,
   "metadata": {},
   "outputs": [],
   "source": [
    "current_dir = os.getcwd()\n",
    "\n",
    "CHROME_PATH = os.path.join(current_dir,'chromedriver.exe')\n",
    "DL_PATH = os.path.join(current_dir, \n",
    "                       f'{download_folder_name}/')\n",
    "\n",
    "if not os.path.exists(DL_PATH):\n",
    "    os.makedirs(DL_PATH) \n",
    "    \n",
    "wd = webdriver.Chrome(CHROME_PATH)\n",
    "\n",
    "urls = get_images_from_google(wd, googleimg_url, 1, MAX_IMAGES) \n",
    "\n",
    "for i, url in enumerate(urls):\n",
    "    download_image(url, DL_PATH, str(i) + \".jpg\")\n",
    "    \n",
    "wd.quit()"
   ]
  },
  {
   "cell_type": "code",
   "execution_count": null,
   "metadata": {},
   "outputs": [],
   "source": [
    "# save lists of image URLs\n",
    "with open(f'{download_folder_name}_urls.txt','w') as f:\n",
    "    f.write(str(urls))\n",
    "\n",
    "# load lists of image URLs\n",
    "# import ast\n",
    "# with open(f'{download_folder_name}_urls.txt','r') as f:\n",
    "#     old_urls = ast.literal_eval(f.read())"
   ]
  }
 ],
 "metadata": {
  "kernelspec": {
   "display_name": "Python 3",
   "language": "python",
   "name": "python3"
  },
  "language_info": {
   "codemirror_mode": {
    "name": "ipython",
    "version": 3
   },
   "file_extension": ".py",
   "mimetype": "text/x-python",
   "name": "python",
   "nbconvert_exporter": "python",
   "pygments_lexer": "ipython3",
   "version": "3.10.7"
  },
  "orig_nbformat": 4
 },
 "nbformat": 4,
 "nbformat_minor": 2
}
