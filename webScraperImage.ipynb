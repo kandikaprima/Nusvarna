{
 "cells": [
  {
   "attachments": {},
   "cell_type": "markdown",
   "metadata": {},
   "source": [
    "# Referensi : https://www.youtube.com/watch?v=NBuED2PivbY\n",
    "\n",
    "\n",
    "# Download chromeDriver first: https://chromedriver.chromium.org/home"
   ]
  },
  {
   "cell_type": "code",
   "execution_count": null,
   "metadata": {},
   "outputs": [],
   "source": [
    "!pip install pillow\n",
    "!pip install selenium\n",
    "!pip install requests"
   ]
  },
  {
   "cell_type": "code",
   "execution_count": null,
   "metadata": {},
   "outputs": [],
   "source": [
    "from selenium import webdriver\n",
    "from selenium.webdriver.common.by import By\n",
    "import requests\n",
    "import io\n",
    "from PIL import Image\n",
    "import time\n",
    "import os\n",
    "import sys\n",
    "from selenium.webdriver.common.keys import Keys"
   ]
  },
  {
   "cell_type": "code",
   "execution_count": null,
   "metadata": {},
   "outputs": [],
   "source": [
    "def get_images_from_google(wd, googleimgsearch_url, delay, max_images):\n",
    "    def scroll_down(wd):\n",
    "        wd.execute_script(\"window.scrollTo(0, document.body.scrollHeight);\")\n",
    "        time.sleep(delay)\n",
    "        \n",
    "    wd.get(googleimgsearch_url)\n",
    "\n",
    "    image_urls = set()\n",
    "    skips = 0\n",
    "    \n",
    "    reached_page_end = False\n",
    "    last_height = wd.execute_script(\"return document.body.scrollHeight\")\n",
    "    \n",
    "    while len(image_urls) + skips < max_images and not reached_page_end: \n",
    "        \n",
    "        scroll_down(wd)\n",
    "        new_height = wd.execute_script(\"return document.body.scrollHeight\")\n",
    "        if last_height == new_height:\n",
    "            reached_page_end = True \n",
    "        else:\n",
    "            last_height = new_height\n",
    "\n",
    "        thumbnails = wd.find_elements(By.CLASS_NAME, \"Q4LuWd\")\n",
    "        \n",
    "        for img in thumbnails[len(image_urls) + skips:max_images]:\n",
    "            try:\n",
    "                img.click()\n",
    "                time.sleep(delay)\n",
    "            except:\n",
    "                continue \n",
    "\n",
    "            images = wd.find_elements(By.CLASS_NAME, \"iPVvYb\")\n",
    "            for image in images:\n",
    "                if image.get_attribute('src') in image_urls:\n",
    "                    max_images += 1\n",
    "                    skips += 1\n",
    "                    break\n",
    "\n",
    "                if image.get_attribute('src') and 'http' in image.get_attribute('src'):\n",
    "                    image_urls.add(image.get_attribute('src'))\n",
    "                    sys.stdout.write(\"\\rFound {0}\".format(len(image_urls)))\n",
    "                    sys.stdout.flush()\n",
    "\n",
    "    return image_urls"
   ]
  },
  {
   "cell_type": "code",
   "execution_count": null,
   "metadata": {},
   "outputs": [],
   "source": [
    "def get_images_from_tokopedia(wd, tokpedsearch_url, delay, max_images):\n",
    "    def scroll_down(wd):\n",
    "        element = wd.find_elements(By.CLASS_NAME, \"css-llwpbs\")[-1] # scroll down to this class element\n",
    "        element.location_once_scrolled_into_view # alternative: wd.execute_script(\"arguments[0].scrollIntoView({ behavior: 'smooth', block: 'end', inline: 'end' });\", element)\n",
    "        time.sleep(delay)\n",
    "    \n",
    "    \n",
    "    \n",
    "    wd.get(tokpedsearch_url)\n",
    "    \n",
    "    last_height = wd.execute_script(\"return document.body.scrollHeight\")\n",
    "    \n",
    "    image_urls = set()\n",
    "    reached_page_end = False\n",
    "    current_page = 1\n",
    "\n",
    "    while len(image_urls) < max_images:\n",
    "        \n",
    "        # scrolling: find for thumbnails\n",
    "        while not reached_page_end:\n",
    "            scroll_down(wd)\n",
    "            new_height = wd.execute_script(\"return document.body.scrollHeight\")\n",
    "            if last_height == new_height:\n",
    "                reached_page_end = True \n",
    "            else:\n",
    "                last_height = new_height\n",
    "        \n",
    "        # storing thumbnail links\n",
    "        thumbnails = []\n",
    "        thumbnails = wd.find_elements(By.CLASS_NAME, \"css-llwpbs\")\n",
    "        thumbnails = [thumb.find_element(By.XPATH,'.//a').get_attribute('href') for thumb in thumbnails]\n",
    "\n",
    "        for thumb in thumbnails:\n",
    "            \n",
    "            wd.get(thumb); time.sleep(delay) # go to thumbnail link\n",
    "\n",
    "            if len(wd.find_elements(By.CLASS_NAME, \"active\")) > 0: \n",
    "                wd.find_elements(By.CLASS_NAME, \"active\")[0].click(); # opening catalogues\n",
    "\n",
    "                def find_image():\n",
    "                        time.sleep(delay)\n",
    "                        catalogues = wd.find_elements(By.CSS_SELECTOR, \"img.css-46cmny.eit69wn2\") # storing list of catalogue images\n",
    "                        for cat in catalogues:\n",
    "                            try:\n",
    "                                cat.click()\n",
    "                            except:\n",
    "                                continue\n",
    "                            image = wd.find_elements(By.CSS_SELECTOR, \"img.css-udmgcf\") # iterate through each catalogue image\n",
    "                            image_urls.add(image[0].get_attribute('src')) # save each catalogue image URLs\n",
    "                            sys.stdout.write(\"\\rFound {0}\".format(len(image_urls)))\n",
    "                            sys.stdout.flush()\n",
    "\n",
    "                find_image()\n",
    "\n",
    "            wd.back() # back to previous page\n",
    " \n",
    "        try:\n",
    "            # go to the next page\n",
    "            split_tokpedpage = tokpedsearch_url.split('page=')\n",
    "            next_page = int(split_tokpedpage[1][0]) + 1\n",
    "            tokpedsearch_url = split_tokpedpage[0] + f'page={next_page}' + split_tokpedpage[1][1:]\n",
    "            wd.get(tokpedsearch_url) \n",
    "            reached_page_end = False\n",
    "        except:\n",
    "            print('Cannot move to page: {}'.format(next_page))\n",
    "            break\n",
    "\n",
    "    return image_urls    "
   ]
  },
  {
   "cell_type": "code",
   "execution_count": null,
   "metadata": {},
   "outputs": [],
   "source": [
    "def download_image(url, download_path, file_name):\n",
    "    try:\n",
    "        image_content = requests.get(url).content\n",
    "        image_file = io.BytesIO(image_content)\n",
    "        image = Image.open(image_file)\n",
    "        file_path = download_path + file_name\n",
    "\n",
    "        with open(file_path, \"wb\") as f:\n",
    "            image.save(f, \"JPEG\")\n",
    "\n",
    "    except Exception as e:\n",
    "        print(f'\\n{url} FAILED -', e) "
   ]
  },
  {
   "attachments": {},
   "cell_type": "markdown",
   "metadata": {},
   "source": [
    "---\n",
    "# Specify these variables\n",
    "\n",
    "* \"download_folder_name\" : in which folder you want to save your downloaded images \n",
    "* \"MAX_IMAGES\" : set limit to maximum number of images that you want to download\n",
    "* \"googleimgsearch_url\" : URL of google search image \n",
    "* \"tokpedsearch_url\" : URL of tokopedia search page"
   ]
  },
  {
   "cell_type": "code",
   "execution_count": null,
   "metadata": {},
   "outputs": [],
   "source": [
    "MAX_IMAGES = 5"
   ]
  },
  {
   "cell_type": "code",
   "execution_count": null,
   "metadata": {},
   "outputs": [],
   "source": [
    "#### >> FOR SCRAPING FROM GOOGLE\n",
    "# download_folder_name = 'kalimantan_utara_google'\n",
    "# googleimgsearch_url = \"https://www.google.com/search?q=baju+adat+dayak+kalimantan+utara&tbm=isch&ved=2ahUKEwi86Zb24Yn_AhUhCLcAHZrgC4QQ2-cCegQIABAA&oq=baju+adat+dayak+kalimantan+utara&gs_lcp=CgNpbWcQAzIHCAAQExCABDoLCAAQgAQQsQMQgwE6BQgAEIAEOgQIABAeOgYIABAFEB46BggAEAgQHlD8CVjAKmCeLGgBcAB4AIABe4gBwAqSAQQyMy4xmAEAoAEBqgELZ3dzLXdpei1pbWfAAQE&sclient=img&ei=idBrZPyAHaGQ3LUPmsGvoAg&bih=601&biw=1280&rlz=1C1CHBD_idID1025ID1026\""
   ]
  },
  {
   "cell_type": "code",
   "execution_count": null,
   "metadata": {},
   "outputs": [],
   "source": [
    "#### >> FOR SCRAPING FROM TOKOPEDIA\n",
    "download_folder_name = 'kalimantan_utara_tokped'\n",
    "tokpedsearch_url = \"https://www.tokopedia.com/search?st=product&q=baju%20adat%20dayak%20kalimantan%20utara&srp_component_id=01.07.00.00&srp_page_id=&srp_page_title=&navsource=\""
   ]
  },
  {
   "cell_type": "code",
   "execution_count": null,
   "metadata": {},
   "outputs": [],
   "source": [
    "# this will set up directory path automatically\n",
    "\n",
    "current_dir = os.getcwd()\n",
    "\n",
    "CHROME_PATH = os.path.join(current_dir,'chromedriver.exe')\n",
    "DOWNLOAD_PATH = os.path.join(current_dir, \n",
    "                       f'{download_folder_name}/')\n",
    "\n",
    "if not os.path.exists(DOWNLOAD_PATH):\n",
    "    os.makedirs(DOWNLOAD_PATH) "
   ]
  },
  {
   "attachments": {},
   "cell_type": "markdown",
   "metadata": {},
   "source": [
    "---"
   ]
  },
  {
   "cell_type": "code",
   "execution_count": null,
   "metadata": {},
   "outputs": [],
   "source": [
    "wd = webdriver.Chrome(CHROME_PATH)\n",
    "\n",
    "#### >> SCRAPING FROM GOOGLE\n",
    "# img_urls = get_images_from_google(wd, googleimgsearch_url, delay = 1, max_images=MAX_IMAGES) \n",
    "\n",
    "#### >> SCRAPING FROM TOKOPEDIA\n",
    "img_urls = get_images_from_tokopedia(wd, tokpedsearch_url, delay = 3, max_images=MAX_IMAGES) \n",
    "\n",
    "wd.quit()"
   ]
  },
  {
   "cell_type": "code",
   "execution_count": null,
   "metadata": {},
   "outputs": [],
   "source": [
    "# downloading images\n",
    "\n",
    "for i, url in enumerate(img_urls):\n",
    "    download_image(url, DOWNLOAD_PATH, str(i) + \".jpg\")"
   ]
  },
  {
   "cell_type": "code",
   "execution_count": null,
   "metadata": {},
   "outputs": [],
   "source": [
    "# save lists of image URLs\n",
    "with open(f'{download_folder_name}_urls.txt','w') as f:\n",
    "    f.write(str(img_urls))\n",
    "\n",
    "# load \".txt\" file containing lists of image URLs\n",
    "# import ast\n",
    "# with open(f'{download_folder_name}_urls.txt','r') as f:\n",
    "#     old_img_urls = ast.literal_eval(f.read())"
   ]
  }
 ],
 "metadata": {
  "kernelspec": {
   "display_name": "Python 3",
   "language": "python",
   "name": "python3"
  },
  "language_info": {
   "codemirror_mode": {
    "name": "ipython",
    "version": 3
   },
   "file_extension": ".py",
   "mimetype": "text/x-python",
   "name": "python",
   "nbconvert_exporter": "python",
   "pygments_lexer": "ipython3",
   "version": "3.10.7"
  },
  "orig_nbformat": 4
 },
 "nbformat": 4,
 "nbformat_minor": 2
}
